{
 "cells": [
  {
   "cell_type": "code",
   "execution_count": null,
   "id": "e8e528b5",
   "metadata": {},
   "outputs": [],
   "source": [
    "import os\n",
    "import glob\n",
    "\n",
    "import matplotlib.pyplot as plt\n",
    "import shutil\n",
    "\n",
    "from PIL import Image, ImageDraw\n",
    "from sklearn.model_selection import train_test_split"
   ]
  },
  {
   "cell_type": "code",
   "execution_count": null,
   "id": "338ac2bd",
   "metadata": {},
   "outputs": [],
   "source": [
    "images = []\n",
    "labels = []\n",
    "\n",
    "for root, dirs, files in os.walk(\".\", topdown=False):\n",
    "    for name in files:\n",
    "        if name.endswith(('png','jpg')):\n",
    "            images.append(os.path.join(root[2:],name))\n",
    "        if name.endswith(('json')):\n",
    "            labels.append(os.path.join(root[2:],name))\n",
    "\n",
    "\n",
    "for file_name in images:\n",
    "\n",
    "for file_name in labels:\n",
    "    shutil.move(file_name, \"F:\\\\fsae\\\\labels\")\n",
    "\n",
    "\n",
    "labels = glob.glob(\"F:\\\\fsae\\\\labels\\\\*.json\")"
   ]
  },
  {
   "cell_type": "code",
   "execution_count": null,
   "id": "2428494b",
   "metadata": {},
   "outputs": [],
   "source": [
    "images_jpg = glob.glob('fsae\\images\\*')\n",
    "\n",
    "for file in images_jpg:\n",
    "    im = Image.open(file)\n",
    "    im.save(file[:-4]+'.jpg')\n"
   ]
  },
  {
   "cell_type": "code",
   "execution_count": null,
   "id": "f24ab5e1",
   "metadata": {},
   "outputs": [],
   "source": [
    "png_images = glob.glob('fsae/images/*.png')\n",
    "\n",
    "for file in png_images:\n",
    "    os.remove(file)"
   ]
  },
  {
   "cell_type": "code",
   "execution_count": null,
   "id": "cb87199f",
   "metadata": {},
   "outputs": [],
   "source": [
    "png_images = glob.glob(root+'/*.png')\n",
    "print(len(png_images))"
   ]
  },
  {
   "cell_type": "code",
   "execution_count": null,
   "id": "725f031c",
   "metadata": {},
   "outputs": [],
   "source": [
    "images = 'fsae/images'\n",
    "labels = 'fsae/labels'"
   ]
  },
  {
   "cell_type": "code",
   "execution_count": null,
   "id": "ee6c54bd",
   "metadata": {},
   "outputs": [],
   "source": [
    "imgs = glob.glob(images+'/*jpg')\n",
    "lbls = glob.glob(labels+'/*.json')\n",
    "\n",
    "len(imgs), len(lbls)"
   ]
  },
  {
   "cell_type": "markdown",
   "id": "1073c0e1",
   "metadata": {},
   "source": [
    "# Convert json to yolo format"
   ]
  },
  {
   "cell_type": "code",
   "execution_count": null,
   "id": "3607ae97",
   "metadata": {},
   "outputs": [],
   "source": [
    "import json\n",
    "import cv2\n",
    "\n",
    "import matplotlib.pyplot as plt"
   ]
  },
  {
   "cell_type": "code",
   "execution_count": null,
   "id": "0d954cdb",
   "metadata": {},
   "outputs": [],
   "source": [
    "f = open('fsae/labels/amz_00000.jpg.json')\n",
    "data = json.load(f)\n",
    "f.close()"
   ]
  },
  {
   "cell_type": "code",
   "execution_count": null,
   "id": "89c1becd",
   "metadata": {},
   "outputs": [],
   "source": [
    "data['objects'][0]['points']['exterior'][0]"
   ]
  },
  {
   "cell_type": "code",
   "execution_count": null,
   "id": "3ea4fb45",
   "metadata": {},
   "outputs": [],
   "source": [
    "classes = set()\n",
    "\n",
    "for lbl in lbls:\n",
    "    f = open(lbl)\n",
    "    data = json.load(f)\n",
    "    f.close()\n",
    "    \n",
    "    for obj in data['objects']:\n",
    "        classes.add(obj['classTitle'])"
   ]
  },
  {
   "cell_type": "code",
   "execution_count": null,
   "id": "0808c110",
   "metadata": {},
   "outputs": [],
   "source": [
    "classes"
   ]
  },
  {
   "cell_type": "code",
   "execution_count": null,
   "id": "2e3bbbc3",
   "metadata": {},
   "outputs": [],
   "source": [
    "clss = dict()\n",
    "\n",
    "for ix, cls in enumerate(classes):\n",
    "    clss[cls] = ix\n",
    "    \n",
    "clss"
   ]
  },
  {
   "cell_type": "code",
   "execution_count": null,
   "id": "a39ef41d",
   "metadata": {
    "scrolled": true
   },
   "outputs": [],
   "source": [
    "im = plt.imread(\"fsae/images/amz_00000.jpg\")\n",
    "implot = plt.imshow(im)\n",
    "\n",
    "plt.scatter([1335],[953]) # top-left corner (x,y)\n",
    "plt.scatter([1414],[1050]) # bottom-right corner\n",
    "#(79,97)\n",
    "plt.scatter([484],[952])\n",
    "plt.scatter([555],[1038])\n",
    "\n",
    "plt.scatter([738],[814])\n",
    "plt.scatter([748],[828])\n",
    "\n",
    "# 1880 x 1480\n",
    "# 640 x 503,8298\n",
    "plt.show()"
   ]
  },
  {
   "cell_type": "code",
   "execution_count": null,
   "id": "14eaebf7",
   "metadata": {},
   "outputs": [],
   "source": [
    "lbls = glob.glob(\"fsae/labels/*.json\")\n",
    "\n",
    "\n",
    "for lbl in lbls:\n",
    "    file = open(f'{lbl[:-5]}.txt','a')\n",
    "    \n",
    "    f = open(lbl)\n",
    "    data = json.load(f)\n",
    "    f.close()\n",
    "    \n",
    "            \n",
    "    width = data['size']['width']\n",
    "    height = data['size']['height']\n",
    "    \n",
    "    for obj in data['objects']:\n",
    "        area = (obj['points']['exterior'][1][1]-obj['points']['exterior'][0][1]) \\\n",
    "             * (obj['points']['exterior'][1][0]-obj['points']['exterior'][0][0])\n",
    "        \n",
    "        if area <= 150:\n",
    "            continue\n",
    "        \n",
    "        category = clss[obj['classTitle']]\n",
    "        \n",
    "        xmin = obj['points']['exterior'][0][0]\n",
    "        ymin = obj['points']['exterior'][0][1]\n",
    "        xmax = obj['points']['exterior'][1][0]\n",
    "        ymax = obj['points']['exterior'][1][1]\n",
    "        \n",
    "        x_centre = (xmax-xmin)/2 + xmin\n",
    "        y_centre = (ymax-ymin)/2 + ymin\n",
    "        \n",
    "        w = xmax-xmin\n",
    "        h = ymax-ymin\n",
    "        \n",
    "        x_centre = x_centre/width\n",
    "        y_centre = y_centre/height\n",
    "        w = w/width\n",
    "        h = h/height\n",
    "        \n",
    "        x_centre = format(x_centre, '.6f')\n",
    "        y_centre = format(y_centre, '.6f')\n",
    "        w = format(w, '.6f')\n",
    "        h = format(h, '.6f')\n",
    "        \n",
    "        file.write(f'{category} {x_centre} {y_centre} {w} {h}\\n')\n",
    "    file.close()\n"
   ]
  },
  {
   "cell_type": "code",
   "execution_count": null,
   "id": "e9b4d7a1",
   "metadata": {},
   "outputs": [],
   "source": [
    "lbls = glob.glob('fsae/labels/*.json')\n",
    "\n",
    "for lbl in lbls:\n",
    "    shutil.move(lbl, 'fsae/json_labels')"
   ]
  },
  {
   "cell_type": "code",
   "execution_count": null,
   "id": "d85c5541",
   "metadata": {},
   "outputs": [],
   "source": [
    "lbls = glob.glob(\"fsae/labels/*.txt\")\n",
    "\n",
    "for lbl in lbls:\n",
    "    os.rename(lbl,lbl[:-8]+'.txt')"
   ]
  },
  {
   "cell_type": "code",
   "execution_count": null,
   "id": "3b31b1e2",
   "metadata": {},
   "outputs": [],
   "source": [
    "images = glob.glob(\"fsae/images/*.jpg\")\n",
    "lbls = glob.glob(\"fsae/labels/*.txt\")\n",
    "len(lbls), len(images)"
   ]
  },
  {
   "cell_type": "code",
   "execution_count": null,
   "id": "03c975e5",
   "metadata": {},
   "outputs": [],
   "source": [
    "images.sort()\n",
    "lbls.sort()\n",
    "\n",
    "train_images, val_images, train_annotations, val_annotations = train_test_split(images, lbls, train_size=0.9, random_state=7)\n",
    "val_images, test_images, val_annotations, test_annotations = train_test_split(val_images, val_annotations, train_size=0.5, random_state=7)"
   ]
  },
  {
   "cell_type": "code",
   "execution_count": null,
   "id": "1880a207",
   "metadata": {},
   "outputs": [],
   "source": [
    "!mkdir fsae/images/train fsae/images/val fsae/images/test \n",
    "!mkdir fsae/annotations/train fsae/annotations/val fsae/annotations/test"
   ]
  },
  {
   "cell_type": "code",
   "execution_count": null,
   "id": "4aa057dc",
   "metadata": {},
   "outputs": [],
   "source": [
    "def move_files_to_folder(list_of_files, destination_folder):\n",
    "    for f in list_of_files:\n",
    "        try:\n",
    "            shutil.move(f, destination_folder)\n",
    "        except:\n",
    "            print(f)\n",
    "            assert False\n",
    "\n",
    "move_files_to_folder(train_images, 'fsae/images/train/')\n",
    "move_files_to_folder(val_images, 'fsae/images/val/')\n",
    "move_files_to_folder(test_images, 'fsae/images/test/')\n",
    "move_files_to_folder(train_annotations, 'fsae/labels/train/')\n",
    "move_files_to_folder(val_annotations, 'fsae/labels/val/')\n",
    "move_files_to_folder(test_annotations, 'fsae/labels/test/')"
   ]
  },
  {
   "cell_type": "code",
   "execution_count": null,
   "id": "b4743187",
   "metadata": {},
   "outputs": [],
   "source": [
    "images = glob.glob('fsae/images/*jpg')\n",
    "annotations = glob.glob('fsae/labels/*.txt')\n",
    "\n",
    "len(images), len(annotations)"
   ]
  },
  {
   "cell_type": "code",
   "execution_count": null,
   "id": "5c8aed66",
   "metadata": {},
   "outputs": [],
   "source": [
    "def move_files_to_folder(list_of_files, destination_folder):\n",
    "    for f in list_of_files:\n",
    "        try:\n",
    "            shutil.move(f, destination_folder)\n",
    "        except:\n",
    "            print(f)\n",
    "            assert False\n",
    "\n",
    "move_files_to_folder(train_images, 'fsae/images/train/')\n",
    "move_files_to_folder(val_images, 'fsae/images/val/')\n",
    "move_files_to_folder(test_images, 'fsae/images/test/')\n",
    "move_files_to_folder(train_annotations, 'fsae/labels/train/')\n",
    "move_files_to_folder(val_annotations, 'fsae/labels/val/')\n",
    "move_files_to_folder(test_annotations, 'fsae/labels/test/')"
   ]
  },
  {
   "cell_type": "code",
   "execution_count": null,
   "id": "fe960a4d",
   "metadata": {},
   "outputs": [],
   "source": [
    "!pip install -r yolov5/requirements.txt"
   ]
  },
  {
   "cell_type": "code",
   "execution_count": null,
   "id": "06899b77",
   "metadata": {},
   "outputs": [],
   "source": [
    "!python yolov5/train.py --img 640 --cfg yolov5s.yaml --hyp C:\\Users\\Наиль\\yolov5\\data\\hyps\\hyp.scratch-low.yaml --batch 16 --epochs 20 --data C:\\Users\\Наиль\\yolov5\\data\\fsae.yml --weights C:\\Users\\Наиль\\Desktop\\best.pt --name fsae_det"
   ]
  },
  {
   "cell_type": "code",
   "execution_count": null,
   "id": "11025b1a",
   "metadata": {},
   "outputs": [],
   "source": [
    "import random\n",
    "from PIL import Image, ImageDraw\n",
    "import numpy as np\n",
    "import matplotlib.pyplot as plt"
   ]
  },
  {
   "cell_type": "code",
   "execution_count": null,
   "id": "9d99eed5",
   "metadata": {},
   "outputs": [],
   "source": [
    "\n",
    "random.seed(0)\n",
    "\n",
    "class_id_to_name_mapping = dict(zip(clss.values(), clss.keys()))\n",
    "\n",
    "def plot_bounding_box(image, annotation_list):\n",
    "    annotations = np.array(annotation_list)\n",
    "    w, h = image.size\n",
    "    \n",
    "    plotted_image = ImageDraw.Draw(image)\n",
    "\n",
    "    transformed_annotations = np.copy(annotations)\n",
    "    transformed_annotations[:,[1,3]] = annotations[:,[1,3]] * w\n",
    "    transformed_annotations[:,[2,4]] = annotations[:,[2,4]] * h \n",
    "    \n",
    "    transformed_annotations[:,1] = transformed_annotations[:,1] - (transformed_annotations[:,3] / 2)\n",
    "    transformed_annotations[:,2] = transformed_annotations[:,2] - (transformed_annotations[:,4] / 2)\n",
    "    transformed_annotations[:,3] = transformed_annotations[:,1] + transformed_annotations[:,3]\n",
    "    transformed_annotations[:,4] = transformed_annotations[:,2] + transformed_annotations[:,4]\n",
    "    \n",
    "    for ann in transformed_annotations:\n",
    "        obj_cls, x0, y0, x1, y1 = ann\n",
    "        plotted_image.rectangle(((x0,y0), (x1,y1)))\n",
    "        \n",
    "        plotted_image.text((x0, y0 - 10), class_id_to_name_mapping[(int(obj_cls))])\n",
    "    \n",
    "    plt.imshow(np.array(image))\n",
    "    plt.show()\n",
    "\n",
    "annotation_file = \"fsae/labels/train/tuwr_00536.txt\"\n",
    "with open(annotation_file, \"r\") as file:\n",
    "    annotation_list = file.read().split(\"\\n\")[:-1]\n",
    "    annotation_list = [x.split(\" \") for x in annotation_list]\n",
    "    annotation_list = [[float(y) for y in x ] for x in annotation_list]\n",
    "\n",
    "\n",
    "image = Image.open(\"fsae/images/train/tuwr_00536.jpg\")\n",
    "plot_bounding_box(image,annotation_list)"
   ]
  },
  {
   "cell_type": "code",
   "execution_count": null,
   "id": "83ff531e",
   "metadata": {},
   "outputs": [],
   "source": []
  }
 ],
 "metadata": {
  "kernelspec": {
   "display_name": "Python 3 (ipykernel)",
   "language": "python",
   "name": "python3"
  },
  "language_info": {
   "codemirror_mode": {
    "name": "ipython",
    "version": 3
   },
   "file_extension": ".py",
   "mimetype": "text/x-python",
   "name": "python",
   "nbconvert_exporter": "python",
   "pygments_lexer": "ipython3",
   "version": "3.9.13"
  }
 },
 "nbformat": 4,
 "nbformat_minor": 5
}
