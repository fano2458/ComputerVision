{
 "cells": [
  {
   "cell_type": "code",
   "execution_count": 2,
   "id": "daf1886e",
   "metadata": {},
   "outputs": [
    {
     "name": "stdout",
     "output_type": "stream",
     "text": [
      "Downloading https://www.cs.toronto.edu/~kriz/cifar-10-python.tar.gz to C:\\Users\\Наиль/cifar10/cifar/cifar-10-python.tar.gz\n"
     ]
    },
    {
     "data": {
      "application/vnd.jupyter.widget-view+json": {
       "model_id": "9d42a1073de446c8a2862b20449e9cc0",
       "version_major": 2,
       "version_minor": 0
      },
      "text/plain": [
       "  0%|          | 0/170498071 [00:00<?, ?it/s]"
      ]
     },
     "metadata": {},
     "output_type": "display_data"
    },
    {
     "name": "stdout",
     "output_type": "stream",
     "text": [
      "Extracting C:\\Users\\Наиль/cifar10/cifar/cifar-10-python.tar.gz to C:\\Users\\Наиль/cifar10/cifar/\n"
     ]
    }
   ],
   "source": [
    "import torch\n",
    "from torch_snippets import *\n",
    "from torchvision import datasets\n",
    "\n",
    "data_folder = '~/cifar10/cifar/'\n",
    "datasets.CIFAR10(data_folder, download=True)\n",
    "\n",
    "device = 'cuda' if torch.cuda.is_available() else 'cpu'"
   ]
  },
  {
   "cell_type": "code",
   "execution_count": 6,
   "id": "5707c32b",
   "metadata": {},
   "outputs": [],
   "source": [
    "class Colorize(torchvision.datasets.CIFAR10):\n",
    "    def __init__(self, root, train):\n",
    "        super().__init__(root, train)\n",
    "        \n",
    "    def __getitem__(self, ix):\n",
    "        im, _ = super().__getitem__(ix)\n",
    "        bw = im.convert('L').convert('RGB')\n",
    "        bw, im = np.array(bw)/255.,np.array(im)/255.\n",
    "        bw, im = [torch.tensor(i).permute(2,0,1).to(device).float() for i in [bw,im]]\n",
    "        return bw, im"
   ]
  },
  {
   "cell_type": "code",
   "execution_count": 7,
   "id": "7dbdb3e7",
   "metadata": {},
   "outputs": [],
   "source": [
    "trn_ds = Colorize('~/cifar10/cifar/', train=True)\n",
    "val_ds = Colorize('~/cifar10/cifar/', train=False)\n",
    "\n",
    "trn_dl = DataLoader(trn_ds, batch_size=256, shuffle=True)\n",
    "val_dl = DataLoader(val_ds, batch_size=256, shuffle=False)"
   ]
  },
  {
   "cell_type": "code",
   "execution_count": 8,
   "id": "b7aa957b",
   "metadata": {},
   "outputs": [
    {
     "data": {
      "image/png": "[encoded data removed]",
      "text/plain": [
       "<Figure size 360x360 with 2 Axes>"
      ]
     },
     "metadata": {
      "needs_background": "light"
     },
     "output_type": "display_data"
    }
   ],
   "source": [
    "a,b = trn_ds[0]\n",
    "subplots([a,b], nc=2)"
   ]
  },
  {
   "cell_type": "code",
   "execution_count": 9,
   "id": "6f52fde2",
   "metadata": {},
   "outputs": [],
   "source": [
    "class Identity(nn.Module):\n",
    "    def __init__(self):\n",
    "        super().__init__()\n",
    "        \n",
    "    def forward(self, x):\n",
    "        return x\n",
    "    \n",
    "class DownConv(nn.Module):\n",
    "    def __init__(self,ni,no,maxpool=True):\n",
    "        super().__init__()\n",
    "        self.model = nn.Sequential(\n",
    "            nn.MaxPoll2d(2) if maxpoll else Identiry(),\n",
    "            nn.Conv2d(ni,no,3,padding=1),\n",
    "            nn.BatchNorm2d(no),\n",
    "            nn.LeakyReLU(0.2,inplace=True),\n",
    "            nn.Conv2d(no,no,3,padding=1),\n",
    "            nn.BatchNorm2d(no),\n",
    "            nn.LeakyReLU(0.2,inplace=True),)\n",
    "    \n",
    "    def forward(self,x):\n",
    "        return self.model(x)\n",
    "    \n",
    "\n",
    "class UpConv(nn.Module):\n",
    "    def __init__(self,ni,no,maxpool=True):\n",
    "        super().__init__()\n",
    "        self.convtranspose = nn.ConvTranspose2d(ni,no,2,stride=2)\n",
    "        self.convlayers = nn.Sequential(\n",
    "            nn.Conv2d(no+no,no,3,padding=1),\n",
    "            nn.BatchNorm2d(no),\n",
    "            nn.LeakyReLU(0.2,inplace=True),\n",
    "            nn.Conv2d(no,no,3,padding=1),\n",
    "            nn.BatchNorm2d(no),\n",
    "            nn.LeakyReLU(0.2,inplace=True),)\n",
    "        \n",
    "    def forward(self,x,y):\n",
    "        x = self.convtraspose(x)\n",
    "        x = torch.cat([x,y], axis=1)\n",
    "        x = self.convlayers(x)\n",
    "        return x\n",
    "    \n",
    "\n",
    "class UNet(nn.Module):\n",
    "    def __init__(self):\n",
    "        super().__init__()\n",
    "        self.d1 = DownConv(3,64,maxpool=False)\n",
    "        self.d2 = DownConv(64,128)\n",
    "        self.d3 = DownConv(128,256)\n",
    "        self.d4 = DownConv(256,512)\n",
    "        self.d5 = DownConv(512,1024)\n",
    "        self.u5 = UpConv(1024,512)\n",
    "        self.u4 = UpConv(512,256)\n",
    "        self.u3 = UpConv(256,128)\n",
    "        self.u2 = UpConv(128,64)\n",
    "        self.u1 = nn.Conv2d(64,3,kernel_size=1,stride=1)\n",
    "        \n",
    "    def forward(self,x):\n",
    "        x0 = self.d1( x)\n",
    "        x1 = self.d2(x0)\n",
    "        x2 = self.d3(x1)\n",
    "        x3 = self.d4(x2)\n",
    "        x4 = self.d5(x3)\n",
    "        X4 = self.u5(x4,x3)\n",
    "        X3 = self.u4(X4,x2)\n",
    "        X2 = self.u3(X3,x1)\n",
    "        X1 = self.u2(X2,x0)\n",
    "        X0 = self.u1(X1)\n",
    "        return X0"
   ]
  },
  {
   "cell_type": "code",
   "execution_count": 10,
   "id": "2bd7407f",
   "metadata": {},
   "outputs": [],
   "source": [
    "def get_model():\n",
    "    model = UNet().to(device)\n",
    "    optimizer = optim.Adam(model.parameters(),lr=1e-3)\n",
    "    loss_fn = nn.MSELoss()\n",
    "    return model, optimizer, loss_fn"
   ]
  },
  {
   "cell_type": "code",
   "execution_count": 11,
   "id": "dd505cb2",
   "metadata": {},
   "outputs": [],
   "source": [
    "def train_batch(model, data, optimizer, criterion):\n",
    "    model.train()\n",
    "    x, y = data\n",
    "    _y = model(x)\n",
    "    optimizer.zero_grad()\n",
    "    loss = criterion(_y,y)\n",
    "    loss.backward()\n",
    "    optimizer.step()\n",
    "    return loss.item()\n",
    "\n",
    "@torch.no_grad()\n",
    "def validate_batch(model, data, criterion):\n",
    "    model.eval()\n",
    "    x, y = data\n",
    "    _y = model(x)\n",
    "    loss = criterion(_y,y)\n",
    "    return loss.item()"
   ]
  },
  {
   "cell_type": "code",
   "execution_count": null,
   "id": "52fa74b8",
   "metadata": {},
   "outputs": [],
   "source": [
    "model, optimizer, criterion = get_model()\n",
    "exp_lr_scheduler = optim.lr_scheduler.StepLR(optimizer, step_size=10, gamma=0.1)\n",
    "\n",
    "_val_dl = DataLoader(val_ds, batch_size=1, shuffle=True)\n",
    "\n",
    "n_epochs = 100\n",
    "log = Report(n_epochs)\n",
    "for ex in range(n_epochs):\n",
    "    N = len(trn_dl)\n",
    "    for bx, data in enumerate(trn_dl):\n",
    "        loss = train_batch(model, data, optimizer, criterion)\n",
    "        log.record(ex+(bx+1)/N, trn_loss=loss, end='\\r')\n",
    "        if (bx+1)%50 == 0:\n",
    "            for _ in range(5):\n",
    "                a, b = next(iter(_val_dl))\n",
    "                _b = model(a)\n",
    "                subplots([a[0], b[0], _b[0]],nc=3,figsize=(5,5))\n",
    "    \n",
    "    N = len(val_dl)\n",
    "    for bx, data in enumerate(val_dl):\n",
    "        loss = validate_batch(model, data, criterion)\n",
    "        log.record(ex+(bx+1)/N, val_loss=loss,end='\\r')\n",
    "    exp_lr_scheduler.step()\n",
    "    if (ex+1) % 5 == 0:\n",
    "        log.report_avgs(ex+1)\n",
    "        \n",
    "    for _ in range(5):\n",
    "        a,b = next(iter(_val_dl))\n",
    "        _b = model(a)\n",
    "        subplots([a[0], b[0], _b[0]], nc=3, figsize=(5,5))\n",
    "\n",
    "log.plot_epochs()"
   ]
  }
 ],
 "metadata": {
  "kernelspec": {
   "display_name": "Python 3 (ipykernel)",
   "language": "python",
   "name": "python3"
  },
  "language_info": {
   "codemirror_mode": {
    "name": "ipython",
    "version": 3
   },
   "file_extension": ".py",
   "mimetype": "text/x-python",
   "name": "python",
   "nbconvert_exporter": "python",
   "pygments_lexer": "ipython3",
   "version": "3.9.12"
  }
 },
 "nbformat": 4,
 "nbformat_minor": 5
}
